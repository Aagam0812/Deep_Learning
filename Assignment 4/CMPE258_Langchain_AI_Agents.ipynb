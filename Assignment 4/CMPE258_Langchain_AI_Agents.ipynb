{
  "nbformat": 4,
  "nbformat_minor": 0,
  "metadata": {
    "colab": {
      "provenance": [],
      "gpuType": "T4"
    },
    "kernelspec": {
      "name": "python3",
      "display_name": "Python 3"
    },
    "language_info": {
      "name": "python"
    },
    "accelerator": "GPU"
  },
  "cells": [
    {
      "cell_type": "markdown",
      "source": [
        "#Agent type #1: Zero Shot React\n"
      ],
      "metadata": {
        "id": "zH4hT10QnLR0"
      }
    },
    {
      "cell_type": "markdown",
      "source": [
        "\n",
        "### Task #1: Text Summarization with Zero Shot React Agent\n",
        "The Zero Shot React Agent, specialized in text summarization, is engineered to distill extensive documents into concise summaries effortlessly. This agent operates on the principle of zero-shot learning, enabling it to understand and summarize texts it has never seen before without any prior training on specific summarization tasks. It's particularly useful for processing long articles, reports, and any extensive textual content, offering quick, digestible summaries that capture the essence of the documents. This capability significantly enhances productivity and information absorption, making it an indispensable tool for researchers, students, and professionals inundated with voluminous reading materials."
      ],
      "metadata": {
        "id": "InZzEpAdECZZ"
      }
    },
    {
      "cell_type": "code",
      "source": [
        "!pip install langchain_experimental -qU"
      ],
      "metadata": {
        "id": "5XMhI8s4Evcw"
      },
      "execution_count": null,
      "outputs": []
    },
    {
      "cell_type": "code",
      "source": [
        "!pip install langchain"
      ],
      "metadata": {
        "colab": {
          "base_uri": "https://localhost:8080/"
        },
        "id": "ONgSp9zqEQlN",
        "outputId": "70ee6af1-95a5-4617-9f6e-1c6203b30e6d"
      },
      "execution_count": null,
      "outputs": [
        {
          "output_type": "stream",
          "name": "stdout",
          "text": [
            "Requirement already satisfied: langchain in /usr/local/lib/python3.10/dist-packages (0.1.13)\n",
            "Requirement already satisfied: PyYAML>=5.3 in /usr/local/lib/python3.10/dist-packages (from langchain) (6.0.1)\n",
            "Requirement already satisfied: SQLAlchemy<3,>=1.4 in /usr/local/lib/python3.10/dist-packages (from langchain) (2.0.29)\n",
            "Requirement already satisfied: aiohttp<4.0.0,>=3.8.3 in /usr/local/lib/python3.10/dist-packages (from langchain) (3.9.3)\n",
            "Requirement already satisfied: async-timeout<5.0.0,>=4.0.0 in /usr/local/lib/python3.10/dist-packages (from langchain) (4.0.3)\n",
            "Requirement already satisfied: dataclasses-json<0.7,>=0.5.7 in /usr/local/lib/python3.10/dist-packages (from langchain) (0.6.4)\n",
            "Requirement already satisfied: jsonpatch<2.0,>=1.33 in /usr/local/lib/python3.10/dist-packages (from langchain) (1.33)\n",
            "Requirement already satisfied: langchain-community<0.1,>=0.0.29 in /usr/local/lib/python3.10/dist-packages (from langchain) (0.0.29)\n",
            "Requirement already satisfied: langchain-core<0.2.0,>=0.1.33 in /usr/local/lib/python3.10/dist-packages (from langchain) (0.1.35)\n",
            "Requirement already satisfied: langchain-text-splitters<0.1,>=0.0.1 in /usr/local/lib/python3.10/dist-packages (from langchain) (0.0.1)\n",
            "Requirement already satisfied: langsmith<0.2.0,>=0.1.17 in /usr/local/lib/python3.10/dist-packages (from langchain) (0.1.33)\n",
            "Requirement already satisfied: numpy<2,>=1 in /usr/local/lib/python3.10/dist-packages (from langchain) (1.25.2)\n",
            "Requirement already satisfied: pydantic<3,>=1 in /usr/local/lib/python3.10/dist-packages (from langchain) (2.6.4)\n",
            "Requirement already satisfied: requests<3,>=2 in /usr/local/lib/python3.10/dist-packages (from langchain) (2.31.0)\n",
            "Requirement already satisfied: tenacity<9.0.0,>=8.1.0 in /usr/local/lib/python3.10/dist-packages (from langchain) (8.2.3)\n",
            "Requirement already satisfied: aiosignal>=1.1.2 in /usr/local/lib/python3.10/dist-packages (from aiohttp<4.0.0,>=3.8.3->langchain) (1.3.1)\n",
            "Requirement already satisfied: attrs>=17.3.0 in /usr/local/lib/python3.10/dist-packages (from aiohttp<4.0.0,>=3.8.3->langchain) (23.2.0)\n",
            "Requirement already satisfied: frozenlist>=1.1.1 in /usr/local/lib/python3.10/dist-packages (from aiohttp<4.0.0,>=3.8.3->langchain) (1.4.1)\n",
            "Requirement already satisfied: multidict<7.0,>=4.5 in /usr/local/lib/python3.10/dist-packages (from aiohttp<4.0.0,>=3.8.3->langchain) (6.0.5)\n",
            "Requirement already satisfied: yarl<2.0,>=1.0 in /usr/local/lib/python3.10/dist-packages (from aiohttp<4.0.0,>=3.8.3->langchain) (1.9.4)\n",
            "Requirement already satisfied: marshmallow<4.0.0,>=3.18.0 in /usr/local/lib/python3.10/dist-packages (from dataclasses-json<0.7,>=0.5.7->langchain) (3.21.1)\n",
            "Requirement already satisfied: typing-inspect<1,>=0.4.0 in /usr/local/lib/python3.10/dist-packages (from dataclasses-json<0.7,>=0.5.7->langchain) (0.9.0)\n",
            "Requirement already satisfied: jsonpointer>=1.9 in /usr/local/lib/python3.10/dist-packages (from jsonpatch<2.0,>=1.33->langchain) (2.4)\n",
            "Requirement already satisfied: packaging<24.0,>=23.2 in /usr/local/lib/python3.10/dist-packages (from langchain-core<0.2.0,>=0.1.33->langchain) (23.2)\n",
            "Requirement already satisfied: orjson<4.0.0,>=3.9.14 in /usr/local/lib/python3.10/dist-packages (from langsmith<0.2.0,>=0.1.17->langchain) (3.9.15)\n",
            "Requirement already satisfied: annotated-types>=0.4.0 in /usr/local/lib/python3.10/dist-packages (from pydantic<3,>=1->langchain) (0.6.0)\n",
            "Requirement already satisfied: pydantic-core==2.16.3 in /usr/local/lib/python3.10/dist-packages (from pydantic<3,>=1->langchain) (2.16.3)\n",
            "Requirement already satisfied: typing-extensions>=4.6.1 in /usr/local/lib/python3.10/dist-packages (from pydantic<3,>=1->langchain) (4.10.0)\n",
            "Requirement already satisfied: charset-normalizer<4,>=2 in /usr/local/lib/python3.10/dist-packages (from requests<3,>=2->langchain) (3.3.2)\n",
            "Requirement already satisfied: idna<4,>=2.5 in /usr/local/lib/python3.10/dist-packages (from requests<3,>=2->langchain) (3.6)\n",
            "Requirement already satisfied: urllib3<3,>=1.21.1 in /usr/local/lib/python3.10/dist-packages (from requests<3,>=2->langchain) (2.0.7)\n",
            "Requirement already satisfied: certifi>=2017.4.17 in /usr/local/lib/python3.10/dist-packages (from requests<3,>=2->langchain) (2024.2.2)\n",
            "Requirement already satisfied: greenlet!=0.4.17 in /usr/local/lib/python3.10/dist-packages (from SQLAlchemy<3,>=1.4->langchain) (3.0.3)\n",
            "Requirement already satisfied: mypy-extensions>=0.3.0 in /usr/local/lib/python3.10/dist-packages (from typing-inspect<1,>=0.4.0->dataclasses-json<0.7,>=0.5.7->langchain) (1.0.0)\n"
          ]
        }
      ]
    },
    {
      "cell_type": "code",
      "source": [
        "import os\n",
        "import getpass\n",
        "\n",
        "os.environ[\"OPENAI_API_KEY\"] = getpass.getpass(\"Enter Your OpenAI API Key:\")"
      ],
      "metadata": {
        "colab": {
          "base_uri": "https://localhost:8080/"
        },
        "id": "-fxchDgIGsT5",
        "outputId": "06535f7c-0178-4330-d8a0-2665b779c600"
      },
      "execution_count": null,
      "outputs": [
        {
          "name": "stdout",
          "output_type": "stream",
          "text": [
            "Enter Your OpenAI API Key:··········\n"
          ]
        }
      ]
    },
    {
      "cell_type": "code",
      "source": [
        "%pip install --upgrade --quiet  langchain-openai tiktoken chromadb langchain"
      ],
      "metadata": {
        "id": "WcfyE1I5SZTV"
      },
      "execution_count": null,
      "outputs": []
    },
    {
      "cell_type": "code",
      "source": [
        "from langchain.agents.agent_types import AgentType"
      ],
      "metadata": {
        "id": "1l-0yRC0Ep9X"
      },
      "execution_count": null,
      "outputs": []
    },
    {
      "cell_type": "code",
      "source": [
        "from langchain.chains.summarize import load_summarize_chain\n",
        "from langchain_community.document_loaders import WebBaseLoader\n",
        "from langchain_openai import ChatOpenAI\n",
        "\n",
        "loader = WebBaseLoader(\"https://www.nhl.com/sharks/\")\n",
        "docs = loader.load()\n",
        "\n",
        "llm = ChatOpenAI(temperature=0, model_name=\"gpt-3.5-turbo-1106\")\n",
        "chain = load_summarize_chain(llm, chain_type=\"stuff\")\n",
        "\n",
        "chain.run(docs)\n"
      ],
      "metadata": {
        "id": "Ldz3nczFyT0T",
        "colab": {
          "base_uri": "https://localhost:8080/",
          "height": 89
        },
        "outputId": "adecd885-27c2-4bb8-a790-4431332cb516"
      },
      "execution_count": null,
      "outputs": [
        {
          "output_type": "execute_result",
          "data": {
            "text/plain": [
              "'The official San Jose Sharks website provides information on tickets, news, team stats, fan experiences, community involvement, and more. It also includes updates on game recaps, social media posts, and upcoming events. The website also offers access to the Sharks365 membership program, premium seating options, and an official mobile app.'"
            ],
            "application/vnd.google.colaboratory.intrinsic+json": {
              "type": "string"
            }
          },
          "metadata": {},
          "execution_count": 23
        }
      ]
    },
    {
      "cell_type": "code",
      "source": [
        "from langchain.chains.combine_documents.stuff import StuffDocumentsChain\n",
        "from langchain.chains.llm import LLMChain\n",
        "from langchain_core.prompts import PromptTemplate\n",
        "\n",
        "# Define prompt\n",
        "prompt_template = \"\"\"Write a concise summary of the following:\n",
        "\"{text}\"\n",
        "CONCISE SUMMARY:\"\"\"\n",
        "prompt = PromptTemplate.from_template(prompt_template)\n",
        "\n",
        "# Define LLM chain\n",
        "llm = ChatOpenAI(temperature=0, model_name=\"gpt-3.5-turbo-16k\")\n",
        "llm_chain = LLMChain(llm=llm, prompt=prompt)\n",
        "\n",
        "# Define StuffDocumentsChain\n",
        "stuff_chain = StuffDocumentsChain(llm_chain=llm_chain, document_variable_name=\"text\")\n",
        "\n",
        "docs = loader.load()\n",
        "print(stuff_chain.run(docs))"
      ],
      "metadata": {
        "colab": {
          "base_uri": "https://localhost:8080/"
        },
        "id": "vXDm2hWEOtja",
        "outputId": "e425c795-afc5-4d43-e79d-4eaca54f1afa"
      },
      "execution_count": null,
      "outputs": [
        {
          "output_type": "stream",
          "name": "stdout",
          "text": [
            "The official website of the San Jose Sharks provides information on tickets, news, team updates, stats, and community initiatives. It also features videos, podcasts, and a shop for merchandise. The website highlights upcoming games and events, as well as provides access to the team's mobile app. The San Jose Sharks are a professional ice hockey team based in San Jose, California.\n"
          ]
        }
      ]
    },
    {
      "cell_type": "markdown",
      "source": [
        "### Task #2: Financial Analysis with Yahoo Finance Tools\n",
        "In a distinct operation, the agent taps into Yahoo Finance tools for a comprehensive financial analysis task. This involves utilizing Yahoo Finance's vast repository of financial data, including stock prices, market trends, earnings reports, and dividend information, to deliver real-time insights and analyses. The agent can execute complex financial queries, compare stock performances, track market movements, and extract specific data points relevant to the user's inquiry. This function is tailor-made for investors, financial analysts, and market enthusiasts looking for up-to-the-minute financial information and analysis, enabling informed decision-making based on the latest market data."
      ],
      "metadata": {
        "id": "DBLdt7RjmkIf"
      }
    },
    {
      "cell_type": "code",
      "source": [
        "%pip install --upgrade --quiet  yfinance"
      ],
      "metadata": {
        "id": "Z0PknGzYOu0n"
      },
      "execution_count": null,
      "outputs": []
    },
    {
      "cell_type": "code",
      "source": [
        "from langchain.agents import AgentType, initialize_agent\n",
        "from langchain_community.tools.yahoo_finance_news import YahooFinanceNewsTool\n",
        "from langchain_openai import ChatOpenAI\n",
        "\n",
        "llm = ChatOpenAI(temperature=0.0)\n",
        "tools = [YahooFinanceNewsTool()]\n",
        "agent_chain = initialize_agent(\n",
        "    tools,\n",
        "    llm,\n",
        "    agent=AgentType.ZERO_SHOT_REACT_DESCRIPTION,\n",
        "    verbose=True,\n",
        ")"
      ],
      "metadata": {
        "id": "ZqvmHKC8Ql4S"
      },
      "execution_count": null,
      "outputs": []
    },
    {
      "cell_type": "code",
      "source": [
        "agent_chain.run(\n",
        "    \"What happens today with Microsoft stocks?\",\n",
        ")"
      ],
      "metadata": {
        "colab": {
          "base_uri": "https://localhost:8080/",
          "height": 448
        },
        "id": "zYAVAvhITusi",
        "outputId": "c75c451e-73f9-4ae7-9c50-6ee1b228bf8c"
      },
      "execution_count": null,
      "outputs": [
        {
          "output_type": "stream",
          "name": "stdout",
          "text": [
            "\n",
            "\n",
            "\u001b[1m> Entering new AgentExecutor chain...\u001b[0m\n",
            "\u001b[32;1m\u001b[1;3mI should check the latest financial news about Microsoft to see if there are any updates on their stock performance.\n",
            "Action: yahoo_finance_news\n",
            "Action Input: MSFT\u001b[0m\n",
            "Observation: \u001b[36;1m\u001b[1;3mGameStop Needs To Get Its Game Back\n",
            "On Tuesday, GameStop Corporation (NYSE: GME) missed both top and bottom-line estimates with its latest quarterly report. Amid the ongoing shift to digital downloads with the rise of the cloud gaming platform by Microsoft Corporation (NASDAQ: MSFT) that accelerated the digitalization of the gaming industry, the videogame retailer delivered a lackluster fourth quarter report that after which its stock plunged in premarket trading on Wednesday. Fourth quarter highlights For the quarter that ended o\u001b[0m\n",
            "Thought:\u001b[32;1m\u001b[1;3mI should look for more recent news specifically about Microsoft's stock performance today.\n",
            "Action: yahoo_finance_news\n",
            "Action Input: MSFT\u001b[0m\n",
            "Observation: \u001b[36;1m\u001b[1;3mGameStop Needs To Get Its Game Back\n",
            "On Tuesday, GameStop Corporation (NYSE: GME) missed both top and bottom-line estimates with its latest quarterly report. Amid the ongoing shift to digital downloads with the rise of the cloud gaming platform by Microsoft Corporation (NASDAQ: MSFT) that accelerated the digitalization of the gaming industry, the videogame retailer delivered a lackluster fourth quarter report that after which its stock plunged in premarket trading on Wednesday. Fourth quarter highlights For the quarter that ended o\u001b[0m\n",
            "Thought:\u001b[32;1m\u001b[1;3mI need to find a more specific news article that directly addresses Microsoft's stock performance today.\n",
            "Action: yahoo_finance_news\n",
            "Action Input: MSFT\u001b[0m\n",
            "Observation: \u001b[36;1m\u001b[1;3mGameStop Needs To Get Its Game Back\n",
            "On Tuesday, GameStop Corporation (NYSE: GME) missed both top and bottom-line estimates with its latest quarterly report. Amid the ongoing shift to digital downloads with the rise of the cloud gaming platform by Microsoft Corporation (NASDAQ: MSFT) that accelerated the digitalization of the gaming industry, the videogame retailer delivered a lackluster fourth quarter report that after which its stock plunged in premarket trading on Wednesday. Fourth quarter highlights For the quarter that ended o\u001b[0m\n",
            "Thought:\u001b[32;1m\u001b[1;3mI have not found any specific news articles about Microsoft's stock performance today, but it seems like there is a focus on GameStop in the latest news.\n",
            "Final Answer: There is no specific information available about Microsoft's stock performance today.\u001b[0m\n",
            "\n",
            "\u001b[1m> Finished chain.\u001b[0m\n"
          ]
        },
        {
          "output_type": "execute_result",
          "data": {
            "text/plain": [
              "\"There is no specific information available about Microsoft's stock performance today.\""
            ],
            "application/vnd.google.colaboratory.intrinsic+json": {
              "type": "string"
            }
          },
          "metadata": {},
          "execution_count": 41
        }
      ]
    },
    {
      "cell_type": "code",
      "source": [
        "print(agent_chain.agent.llm_chain.prompt.template)"
      ],
      "metadata": {
        "colab": {
          "base_uri": "https://localhost:8080/"
        },
        "id": "Q-a0kN1CTyXG",
        "outputId": "f15c273f-2304-47f2-ea5a-a3da17d401a6"
      },
      "execution_count": null,
      "outputs": [
        {
          "output_type": "stream",
          "name": "stdout",
          "text": [
            "Answer the following questions as best you can. You have access to the following tools:\n",
            "\n",
            "yahoo_finance_news: Useful for when you need to find financial news about a public company. Input should be a company ticker. For example, AAPL for Apple, MSFT for Microsoft.\n",
            "\n",
            "Use the following format:\n",
            "\n",
            "Question: the input question you must answer\n",
            "Thought: you should always think about what to do\n",
            "Action: the action to take, should be one of [yahoo_finance_news]\n",
            "Action Input: the input to the action\n",
            "Observation: the result of the action\n",
            "... (this Thought/Action/Action Input/Observation can repeat N times)\n",
            "Thought: I now know the final answer\n",
            "Final Answer: the final answer to the original input question\n",
            "\n",
            "Begin!\n",
            "\n",
            "Question: {input}\n",
            "Thought:{agent_scratchpad}\n"
          ]
        }
      ]
    },
    {
      "cell_type": "markdown",
      "source": [
        "# Agent type #2: Conversational React\n",
        "The Zero Shot agent presents a fascinating concept; however, it lacks the ability to retain memory of past interactions. Imagine the potential of an assistant that not only remembers previous discussions but can also reason through them and leverage various tools for enhanced functionality. Enter the Conversational React Agent. In the context of leveraging Yahoo Finance tools, this agent's capabilities are further augmented. For instance, when employing financial analysis tools, it would be initialized as follows:"
      ],
      "metadata": {
        "id": "zf-LBKYYa2rZ"
      }
    },
    {
      "cell_type": "code",
      "source": [
        "\n",
        "from langchain.agents import load_tools\n",
        "\n",
        "tools = [YahooFinanceNewsTool()]\n",
        "\n",
        "\n",
        "\n",
        "from langchain.memory import ConversationBufferMemory\n",
        "\n",
        "memory = ConversationBufferMemory(memory_key=\"chat_history\")\n"
      ],
      "metadata": {
        "id": "xQgUdHj7aqw6"
      },
      "execution_count": null,
      "outputs": []
    },
    {
      "cell_type": "code",
      "source": [
        "from langchain.agents import initialize_agent\n",
        "\n",
        "conversational_agent = initialize_agent(\n",
        "    agent=AgentType.CONVERSATIONAL_REACT_DESCRIPTION,\n",
        "    tools=tools,\n",
        "    llm=llm,\n",
        "    verbose=True,\n",
        "    max_iterations=3,\n",
        "    memory=memory)\n"
      ],
      "metadata": {
        "id": "ZUMQKerTaL3u"
      },
      "execution_count": null,
      "outputs": []
    },
    {
      "cell_type": "code",
      "source": [
        "conversational_agent.run(\n",
        "    \"Whats latest in AAPLE\",\n",
        ")"
      ],
      "metadata": {
        "colab": {
          "base_uri": "https://localhost:8080/",
          "height": 323
        },
        "id": "PC7O_N6IbB_X",
        "outputId": "e31d58b5-5e41-4f5c-a461-e0556db0ab35"
      },
      "execution_count": null,
      "outputs": [
        {
          "output_type": "stream",
          "name": "stdout",
          "text": [
            "\n",
            "\n",
            "\u001b[1m> Entering new AgentExecutor chain...\u001b[0m\n",
            "\u001b[32;1m\u001b[1;3mThought: Do I need to use a tool? Yes\n",
            "Action: yahoo_finance_news\n",
            "Action Input: AAPL\u001b[0m\n",
            "Observation: \u001b[36;1m\u001b[1;3mHow To Earn $500 A Month From Apple Stock\n",
            "Apple Inc. (NASDAQ: AAPL) shares closed slightly lower during Tuesday’s session. MacRumors has reported that Apple is potentially introducing a “custom routes” feature in iOS 18. The discovery was made through a review of code associated with Apple Maps. This feature will allow users to enter their chosen navigation paths, marking a significant expansion from the current pre-selected routes. With the recent buzz around Apple, some investors may be eyeing potential gains from the company’s divide\u001b[0m\n",
            "Thought:\u001b[32;1m\u001b[1;3mDo I need to use a tool? No\n",
            "AI: The latest news on Apple (AAPL) is that they are potentially introducing a \"custom routes\" feature in iOS 18, which would allow users to enter their chosen navigation paths in Apple Maps. This could be a significant expansion from the current pre-selected routes. Investors may be interested in potential gains from this development.\u001b[0m\n",
            "\n",
            "\u001b[1m> Finished chain.\u001b[0m\n"
          ]
        },
        {
          "output_type": "execute_result",
          "data": {
            "text/plain": [
              "'The latest news on Apple (AAPL) is that they are potentially introducing a \"custom routes\" feature in iOS 18, which would allow users to enter their chosen navigation paths in Apple Maps. This could be a significant expansion from the current pre-selected routes. Investors may be interested in potential gains from this development.'"
            ],
            "application/vnd.google.colaboratory.intrinsic+json": {
              "type": "string"
            }
          },
          "metadata": {},
          "execution_count": 56
        }
      ]
    },
    {
      "cell_type": "code",
      "source": [
        "print(conversational_agent.agent.llm_chain.prompt.template)"
      ],
      "metadata": {
        "colab": {
          "base_uri": "https://localhost:8080/"
        },
        "id": "b76j78JkbKeE",
        "outputId": "749e2667-7f04-4348-f4ad-f206fcf33b50"
      },
      "execution_count": null,
      "outputs": [
        {
          "output_type": "stream",
          "name": "stdout",
          "text": [
            "Assistant is a large language model trained by OpenAI.\n",
            "\n",
            "Assistant is designed to be able to assist with a wide range of tasks, from answering simple questions to providing in-depth explanations and discussions on a wide range of topics. As a language model, Assistant is able to generate human-like text based on the input it receives, allowing it to engage in natural-sounding conversations and provide responses that are coherent and relevant to the topic at hand.\n",
            "\n",
            "Assistant is constantly learning and improving, and its capabilities are constantly evolving. It is able to process and understand large amounts of text, and can use this knowledge to provide accurate and informative responses to a wide range of questions. Additionally, Assistant is able to generate its own text based on the input it receives, allowing it to engage in discussions and provide explanations and descriptions on a wide range of topics.\n",
            "\n",
            "Overall, Assistant is a powerful tool that can help with a wide range of tasks and provide valuable insights and information on a wide range of topics. Whether you need help with a specific question or just want to have a conversation about a particular topic, Assistant is here to assist.\n",
            "\n",
            "TOOLS:\n",
            "------\n",
            "\n",
            "Assistant has access to the following tools:\n",
            "\n",
            "> yahoo_finance_news: Useful for when you need to find financial news about a public company. Input should be a company ticker. For example, AAPL for Apple, MSFT for Microsoft.\n",
            "\n",
            "To use a tool, please use the following format:\n",
            "\n",
            "```\n",
            "Thought: Do I need to use a tool? Yes\n",
            "Action: the action to take, should be one of [yahoo_finance_news]\n",
            "Action Input: the input to the action\n",
            "Observation: the result of the action\n",
            "```\n",
            "\n",
            "When you have a response to say to the Human, or if you do not need to use a tool, you MUST use the format:\n",
            "\n",
            "```\n",
            "Thought: Do I need to use a tool? No\n",
            "AI: [your response here]\n",
            "```\n",
            "\n",
            "Begin!\n",
            "\n",
            "Previous conversation history:\n",
            "{chat_history}\n",
            "\n",
            "New input: {input}\n",
            "{agent_scratchpad}\n"
          ]
        }
      ]
    },
    {
      "cell_type": "code",
      "source": [
        "conversational_agent.run(\n",
        "    \"What's meant by custom routes that APPLE are workings\",\n",
        ")"
      ],
      "metadata": {
        "colab": {
          "base_uri": "https://localhost:8080/",
          "height": 323
        },
        "id": "4A5IxHVje8hH",
        "outputId": "a2ec6ce5-3870-4c16-a4eb-f0417184ef0a"
      },
      "execution_count": null,
      "outputs": [
        {
          "output_type": "stream",
          "name": "stdout",
          "text": [
            "\n",
            "\n",
            "\u001b[1m> Entering new AgentExecutor chain...\u001b[0m\n",
            "\u001b[32;1m\u001b[1;3mThought: Do I need to use a tool? Yes\n",
            "Action: yahoo_finance_news\n",
            "Action Input: AAPL\u001b[0m\n",
            "Observation: \u001b[36;1m\u001b[1;3mHow To Earn $500 A Month From Apple Stock\n",
            "Apple Inc. (NASDAQ: AAPL) shares closed slightly lower during Tuesday’s session. MacRumors has reported that Apple is potentially introducing a “custom routes” feature in iOS 18. The discovery was made through a review of code associated with Apple Maps. This feature will allow users to enter their chosen navigation paths, marking a significant expansion from the current pre-selected routes. With the recent buzz around Apple, some investors may be eyeing potential gains from the company’s divide\u001b[0m\n",
            "Thought:\u001b[32;1m\u001b[1;3mDo I need to use a tool? No\n",
            "AI: The \"custom routes\" feature that Apple is potentially working on for iOS 18 would allow users to input their preferred navigation paths in Apple Maps, rather than relying on pre-selected routes. This feature could provide users with more personalized and flexible navigation options, potentially improving the overall user experience with the app.\u001b[0m\n",
            "\n",
            "\u001b[1m> Finished chain.\u001b[0m\n"
          ]
        },
        {
          "output_type": "execute_result",
          "data": {
            "text/plain": [
              "'The \"custom routes\" feature that Apple is potentially working on for iOS 18 would allow users to input their preferred navigation paths in Apple Maps, rather than relying on pre-selected routes. This feature could provide users with more personalized and flexible navigation options, potentially improving the overall user experience with the app.'"
            ],
            "application/vnd.google.colaboratory.intrinsic+json": {
              "type": "string"
            }
          },
          "metadata": {},
          "execution_count": 58
        }
      ]
    },
    {
      "cell_type": "markdown",
      "source": [
        "# Agent type #3: React Docstore\n",
        "This agent variant, while sharing similarities with previous models, introduces an interaction with a docstore, specifically utilizing Duck Duck Go as its document store (Docstore) foundation. It is equipped with precisely two tools: 'Search' and 'Lookup'. The 'Search' function is tasked with retrieving pertinent articles, whereas 'Lookup' is designed to pinpoint the exact information needed within the article. The functionality and efficiency of this agent are best understood through practical demonstration."
      ],
      "metadata": {
        "id": "rIRsrWeAf6Rs"
      }
    },
    {
      "cell_type": "code",
      "source": [
        "%pip install --upgrade --quiet  duckduckgo-search"
      ],
      "metadata": {
        "colab": {
          "base_uri": "https://localhost:8080/"
        },
        "id": "aknojHrfgTUz",
        "outputId": "6857b204-bebd-4eec-de72-dc773903e7dc"
      },
      "execution_count": null,
      "outputs": [
        {
          "output_type": "stream",
          "name": "stdout",
          "text": [
            "\u001b[2K     \u001b[90m━━━━━━━━━━━━━━━━━━━━━━━━━━━━━━━━━━━━━━━━\u001b[0m \u001b[32m5.7/5.7 MB\u001b[0m \u001b[31m49.8 MB/s\u001b[0m eta \u001b[36m0:00:00\u001b[0m\n",
            "\u001b[2K     \u001b[90m━━━━━━━━━━━━━━━━━━━━━━━━━━━━━━━━━━━━━━━━\u001b[0m \u001b[32m8.0/8.0 MB\u001b[0m \u001b[31m59.6 MB/s\u001b[0m eta \u001b[36m0:00:00\u001b[0m\n",
            "\u001b[?25h"
          ]
        }
      ]
    },
    {
      "cell_type": "code",
      "source": [
        "from langchain_community.tools import DuckDuckGoSearchRun"
      ],
      "metadata": {
        "id": "0RHDsJX2iJLj"
      },
      "execution_count": null,
      "outputs": []
    },
    {
      "cell_type": "code",
      "source": [
        "from langchain import Wikipedia\n",
        "from langchain.agents.react.base import DocstoreExplorer, Tool\n",
        "\n",
        "docstore=DocstoreExplorer(DuckDuckGoSearchRun())\n",
        "tools = [\n",
        "    Tool(\n",
        "        name=\"Search\",\n",
        "        func=DuckDuckGoSearchRun(),\n",
        "        description='search DuckDuckGO'\n",
        "    ),\n",
        "    Tool(\n",
        "        name=\"Lookup\",\n",
        "        func=docstore.lookup,\n",
        "        description='lookup a term in DuckDuckGO'\n",
        "    )\n",
        "]\n"
      ],
      "metadata": {
        "id": "k7ZnH7Rcf7p1"
      },
      "execution_count": null,
      "outputs": []
    },
    {
      "cell_type": "code",
      "source": [
        "docstore_agent = initialize_agent(\n",
        "    tools,\n",
        "    llm,\n",
        "    agent=\"react-docstore\",\n",
        "    verbose=True,\n",
        "    max_iterations=3,\n",
        "    handle_parsing_errors=True\n",
        ")"
      ],
      "metadata": {
        "id": "rbsxZVmWgRyA"
      },
      "execution_count": null,
      "outputs": []
    },
    {
      "cell_type": "code",
      "source": [
        "docstore_agent.run(\"What were Newton 3 laws?\")"
      ],
      "metadata": {
        "colab": {
          "base_uri": "https://localhost:8080/",
          "height": 502
        },
        "id": "owMaKvfiivNv",
        "outputId": "9e51b130-34db-42cf-d017-96bd865f0f1f"
      },
      "execution_count": null,
      "outputs": [
        {
          "output_type": "stream",
          "name": "stdout",
          "text": [
            "\n",
            "\n",
            "\u001b[1m> Entering new AgentExecutor chain...\u001b[0m\n",
            "\u001b[32;1m\u001b[1;3mThought: I need to search Newton's 3 laws and provide a summary of each law.\n",
            "Action: Search[Newton's 3 laws]\u001b[0m\n",
            "Observation: \u001b[36;1m\u001b[1;3mNewton's laws of motion are three laws that describe the relationship between the motion of an object and the forces acting on it. These laws, which provide the basis for Newtonian mechanics, can be paraphrased as follows: . A body remains at rest, or in motion at a constant speed in a straight line, except insofar as it is acted upon by a force. Newton's first law: the law of inertia. When a basketball player shoots a jump shot, the ball always follows an arcing path. The ball follows this path because its motion obeys Isaac Newton's laws of motion. Newton's first law states that if a body is at rest or moving at a constant speed in a straight line, it will remain at rest or keep ... Learn how Newton's laws of motion explain the relationship between a physical object and the forces acting upon it. See examples of inertia, force and action-reaction in aerodynamics and flight. These three laws were first stated by Isaac Newton in his Philosophiae Naturalis Principia Mathematica which means Mathematical Principles of Natural Philosophy, it was first published in 1687. In real life, Newton used these principles to explain and investigate the motion of so many physical objects & many systems, which put the basic ... 2. Newton's Second Law of Motion (Law of Mass and Acceleration) The second of Newton's three laws of motion is also known as the law of mass and acceleration. The equation F = ma is probably the most-used equation in mechanics. It states that the net force on a body is equal to the mass multiplied by the acceleration.\u001b[0m\n",
            "Thought:\u001b[32;1m\u001b[1;3mCould not parse LLM Output: Newton's 3 laws of motion are:\n",
            "\n",
            "1. Newton's First Law (Law of Inertia): A body remains at rest, or in motion at a constant speed in a straight line, except insofar as it is acted upon by a force.\n",
            "\n",
            "2. Newton's Second Law of Motion (Law of Mass and Acceleration): The net force on a body is equal to the mass multiplied by the acceleration. This is represented by the equation F = ma.\n",
            "\n",
            "3. Newton's Third Law of Motion (Action-Reaction Law): For every action, there is an equal and opposite reaction.\u001b[0m\n",
            "Observation: Invalid or incomplete response\n",
            "Thought:\u001b[32;1m\u001b[1;3mCould not parse LLM Output: Newton's 3 laws of motion are:\n",
            "\n",
            "1. Newton's First Law (Law of Inertia): A body remains at rest, or in motion at a constant speed in a straight line, except insofar as it is acted upon by a force.\n",
            "\n",
            "2. Newton's Second Law of Motion (Law of Mass and Acceleration): The net force on a body is equal to the mass multiplied by the acceleration. This is represented by the equation F = ma.\n",
            "\n",
            "3. Newton's Third Law of Motion (Action-Reaction Law): For every action, there is an equal and opposite reaction.\u001b[0m\n",
            "Observation: Invalid or incomplete response\n",
            "Thought:\u001b[32;1m\u001b[1;3m\u001b[0m\n",
            "\n",
            "\u001b[1m> Finished chain.\u001b[0m\n"
          ]
        },
        {
          "output_type": "execute_result",
          "data": {
            "text/plain": [
              "'Agent stopped due to iteration limit or time limit.'"
            ],
            "application/vnd.google.colaboratory.intrinsic+json": {
              "type": "string"
            }
          },
          "metadata": {},
          "execution_count": 79
        }
      ]
    },
    {
      "cell_type": "markdown",
      "source": [
        "#Agent type #4: Self Ask with Search\n",
        "This agent stands as the premier choice for leveraging Large Language Models (LLMs) to harness information through a search engine, specifically employing Duck Duck Go for its search capabilities. Designed to interactively ask follow-up questions, this agent adeptly utilizes Duck Duck Go's search functionalities to gather interim responses. These responses aid in navigating towards a comprehensive final answer, streamlining the process of extracting relevant information efficiently."
      ],
      "metadata": {
        "id": "SDcLmYe2kShV"
      }
    },
    {
      "cell_type": "code",
      "source": [
        "\n",
        "from langchain.agents import initialize_agent, Tool\n",
        "\n",
        "search = DuckDuckGoSearchRun()\n",
        "tools = [\n",
        "    Tool(\n",
        "        name=\"Intermediate Answer\",\n",
        "        func=search.run,\n",
        "        description='DuckDuckGO search'\n",
        "    )\n",
        "]\n",
        "\n",
        "self_ask_with_search = initialize_agent(tools, llm, agent=\"self-ask-with-search\", verbose=True,handle_parsing_errors=True)"
      ],
      "metadata": {
        "id": "6OM8VF9Jkj1a"
      },
      "execution_count": null,
      "outputs": []
    },
    {
      "cell_type": "code",
      "source": [
        "self_ask_with_search.run(\"American best pop singer?\")"
      ],
      "metadata": {
        "colab": {
          "base_uri": "https://localhost:8080/",
          "height": 234
        },
        "id": "2U7HZcI8i1Rw",
        "outputId": "7e7c81c5-761f-4975-d1ab-0e135d62f61a"
      },
      "execution_count": null,
      "outputs": [
        {
          "output_type": "stream",
          "name": "stdout",
          "text": [
            "\n",
            "\n",
            "\u001b[1m> Entering new AgentExecutor chain...\u001b[0m\n",
            "\u001b[32;1m\u001b[1;3mCould not parse output: Yes.\u001b[0m\n",
            "Intermediate answer: Invalid or incomplete response\n",
            "\u001b[32;1m\u001b[1;3mFollow up: Who is considered the King of Pop?\u001b[0m\n",
            "Intermediate answer: \u001b[36;1m\u001b[1;3mMichael Joseph Jackson (August 29, 1958 - June 25, 2009) was an American singer, songwriter, dancer, and philanthropist. Known as the \"King of Pop\", he is regarded as one of the most significant cultural figures of the 20th century.During his four-decade career, his contributions to music, dance, and fashion, along with his publicized personal life, made him a global figure in popular culture. In the ever-evolving world of pop music, Michael Jackson's reign as the King of Pop remains unchallenged. His ability to transcend genres, boundaries, and cultures through his music and image is a testament to his enduring impact on the world of pop music. From his early days with the Jackson 5 to his record-breaking solo career and his ... Michael Jackson (born August 29, 1958, Gary, Indiana, U.S.—died June 25, 2009, Los Angeles, California) was an American singer, songwriter, and dancer who was the most popular entertainer in the world in the early and mid-1980s.Reared in Gary, Indiana, in one of the most acclaimed musical families of the rock era, Michael Jackson was the youngest and most talented of five brothers whom his ... \"King of Pop\" redirects here. For other uses, see King of Pop (disambiguation) and Michael Jackson (disambiguation). Michael Joseph Jackson (August 29, 1958 - June 25, 2009) was an American singer, songwriter, and dancer. Dubbed the \" King of Pop \", he is regarded as one of the most significant cultural figures of the 20th century. The first male artist to be named to this high honor declared himself \"The King of Country Music\" on his 1962 LP of the same name. Roy Acuff, a leading personality of the Grand Old Opry, sold 25 million records by 1962 and became the first living member to be inducted into the Country Music Hall of Fame.\u001b[0m\n",
            "\u001b[32;1m\u001b[1;3mSo the final answer is: Michael Jackson\u001b[0m\n",
            "\n",
            "\u001b[1m> Finished chain.\u001b[0m\n"
          ]
        },
        {
          "output_type": "execute_result",
          "data": {
            "text/plain": [
              "'Michael Jackson'"
            ],
            "application/vnd.google.colaboratory.intrinsic+json": {
              "type": "string"
            }
          },
          "metadata": {},
          "execution_count": 84
        }
      ]
    },
    {
      "cell_type": "code",
      "source": [
        "\n",
        "print(self_ask_with_search.agent.llm_chain.prompt.template)"
      ],
      "metadata": {
        "colab": {
          "base_uri": "https://localhost:8080/"
        },
        "id": "PBVPwlrukx4B",
        "outputId": "e277c057-2558-42d1-eb2c-eacd79c8dac3"
      },
      "execution_count": null,
      "outputs": [
        {
          "output_type": "stream",
          "name": "stdout",
          "text": [
            "Question: Who lived longer, Muhammad Ali or Alan Turing?\n",
            "Are follow up questions needed here: Yes.\n",
            "Follow up: How old was Muhammad Ali when he died?\n",
            "Intermediate answer: Muhammad Ali was 74 years old when he died.\n",
            "Follow up: How old was Alan Turing when he died?\n",
            "Intermediate answer: Alan Turing was 41 years old when he died.\n",
            "So the final answer is: Muhammad Ali\n",
            "\n",
            "Question: When was the founder of craigslist born?\n",
            "Are follow up questions needed here: Yes.\n",
            "Follow up: Who was the founder of craigslist?\n",
            "Intermediate answer: Craigslist was founded by Craig Newmark.\n",
            "Follow up: When was Craig Newmark born?\n",
            "Intermediate answer: Craig Newmark was born on December 6, 1952.\n",
            "So the final answer is: December 6, 1952\n",
            "\n",
            "Question: Who was the maternal grandfather of George Washington?\n",
            "Are follow up questions needed here: Yes.\n",
            "Follow up: Who was the mother of George Washington?\n",
            "Intermediate answer: The mother of George Washington was Mary Ball Washington.\n",
            "Follow up: Who was the father of Mary Ball Washington?\n",
            "Intermediate answer: The father of Mary Ball Washington was Joseph Ball.\n",
            "So the final answer is: Joseph Ball\n",
            "\n",
            "Question: Are both the directors of Jaws and Casino Royale from the same country?\n",
            "Are follow up questions needed here: Yes.\n",
            "Follow up: Who is the director of Jaws?\n",
            "Intermediate answer: The director of Jaws is Steven Spielberg.\n",
            "Follow up: Where is Steven Spielberg from?\n",
            "Intermediate answer: The United States.\n",
            "Follow up: Who is the director of Casino Royale?\n",
            "Intermediate answer: The director of Casino Royale is Martin Campbell.\n",
            "Follow up: Where is Martin Campbell from?\n",
            "Intermediate answer: New Zealand.\n",
            "So the final answer is: No\n",
            "\n",
            "Question: {input}\n",
            "Are followup questions needed here:{agent_scratchpad}\n"
          ]
        }
      ]
    }
  ]
}